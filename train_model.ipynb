{
 "cells": [
  {
   "cell_type": "code",
   "execution_count": 1,
   "metadata": {},
   "outputs": [],
   "source": [
    "# backend/api/models/regression_model.py\n",
    "import pandas as pd\n",
    "from sklearn.linear_model import LinearRegression\n",
    "from sklearn.preprocessing import StandardScaler, PolynomialFeatures, MinMaxScaler\n",
    "from sklearn.pipeline import make_pipeline\n",
    "from sklearn.metrics import mean_squared_error, r2_score #, root_mean_squared_error\n",
    "from sklearn.model_selection import train_test_split\n",
    "from joblib import dump, load\n",
    "import os\n",
    "import json\n",
    "import numpy as np\n",
    "# Paths for data and model storage\n",
    "# BASE_DIR = os.path.dirname(os.path.dirname(os.path.dirname(os.path.abspath(__file__))))\n",
    "CSV_FILE_PATH = os.path.join('data', 'all_countries_data_processed.csv')\n",
    "MODEL_PATH = os.path.join('model', 'regression_model.pkl')\n",
    "\n",
    "def load_data():\n",
    "    # Load dataset from CSV\n",
    "    return pd.read_csv(CSV_FILE_PATH)\n",
    "\n",
    "def clean_dataset(dataset):\n",
    "    # Calculate Q1 (25th percentile) and Q3 (75th percentile) for 'Exposure Mean'\n",
    "    Q1_exposure = dataset['Exposure Mean'].quantile(0.25)\n",
    "    Q3_exposure = dataset['Exposure Mean'].quantile(0.75)\n",
    "    IQR_exposure = Q3_exposure - Q1_exposure\n",
    "\n",
    "    # Calculate lower and upper bounds for 'Exposure Mean'\n",
    "    lower_bound_exposure = Q1_exposure - 1.5 * IQR_exposure\n",
    "    upper_bound_exposure = Q3_exposure + 1.5 * IQR_exposure\n",
    "\n",
    "    # Calculate Q1 and Q3 for 'Burden Mean'\n",
    "    Q1_burden = dataset['Burden Mean'].quantile(0.25)\n",
    "    Q3_burden = dataset['Burden Mean'].quantile(0.75)\n",
    "    IQR_burden = Q3_burden - Q1_burden\n",
    "\n",
    "    # Calculate lower and upper bounds for 'Burden Mean'\n",
    "    lower_bound_burden = Q1_burden - 1.5 * IQR_burden\n",
    "    upper_bound_burden = Q3_burden + 1.5 * IQR_burden\n",
    "\n",
    "    # Remove outliers from both 'Exposure Mean' and 'Burden Mean'\n",
    "    dataset_cleaned = dataset[\n",
    "        (dataset['Exposure Mean'] >= lower_bound_exposure) & (dataset['Exposure Mean'] <= upper_bound_exposure) & \n",
    "        (dataset['Burden Mean'] >= lower_bound_burden) & (dataset['Burden Mean'] <= upper_bound_burden)\n",
    "    ]\n",
    "\n",
    "    return dataset_cleaned\n",
    "\n",
    "def preprocess_data(data):\n",
    "    # Drop non-numeric columns that are irrelevant for training\n",
    "    data = data[['Country', 'Pollutant', 'Exposure Mean', 'Burden Mean']]\n",
    "    country_dict = {country: code for code, country in enumerate(data['Country'].unique())}\n",
    "    data['Country'] = data['Country'].map(country_dict)\n",
    "    \n",
    "    with open('data/country_dict.json', 'w') as f:\n",
    "        json.dump(country_dict, f)\n",
    "    \n",
    "    # One-hot encode 'Pollutant' and label encode 'Country'\n",
    "    data = pd.get_dummies(data, columns=['Pollutant'], drop_first=False)\n",
    "    \n",
    "    # Separate features and target\n",
    "    X = data.drop(columns=['Burden Mean'])  # All columns except 'Burden Mean' are features\n",
    "    y = data['Burden Mean']  # 'Burden Mean' is the target variable\n",
    "\n",
    "    # Normalize numeric features\n",
    "    scaler_X = MinMaxScaler()\n",
    "    scaler_y = MinMaxScaler()\n",
    "\n",
    "    X_scaled = scaler_X.fit_transform(X)  # Normalize features\n",
    "    y_scaled = scaler_y.fit_transform(y.values.reshape(-1, 1))  # Normalize target\n",
    "    return X_scaled, y_scaled\n",
    "\n",
    "def split_data(X, y):\n",
    "    # Split into training and test sets\n",
    "    return train_test_split(X, y, test_size=0.2, random_state=42)\n",
    "\n",
    "def ai_model_linear_train(x_train, x_test, y_train, y_test):\n",
    "    #Initialize the Linear Regression model\n",
    "    lr = LinearRegression()\n",
    "\n",
    "    #Train the model\n",
    "    lr.fit(x_train, y_train)\n",
    "\n",
    "    #Make predictions on the test data\n",
    "    y_pred = lr.predict(x_test)\n",
    "\n",
    "    #Evaluate the model using Mean Squared Error and R^2 score\n",
    "    mse = mean_squared_error(y_test, y_pred)\n",
    "    #rmse = root_mean_squared_error(y_test, y_pred)\n",
    "    r2 = r2_score(y_test, y_pred)\n",
    "\n",
    "    return lr, mse, r2\n",
    "\n",
    "def ai_model_polynomial_train(x_train, x_test, y_train, y_test):\n",
    "    poly_features = PolynomialFeatures(degree=4)\n",
    "    model = make_pipeline(poly_features, LinearRegression())\n",
    "    model.fit(x_train, y_train)\n",
    "\n",
    "    y_pred = model.predict(x_test)\n",
    "\n",
    "    mse = mean_squared_error(y_test, y_pred)\n",
    "    r2 = r2_score(y_test, y_pred)\n",
    "\n",
    "    return model, mse, r2\n",
    "\n",
    "def save_model(model, path=MODEL_PATH):\n",
    "    # Save model to disk\n",
    "    dump(model, path)\n",
    "\n",
    "def load_model(path=MODEL_PATH):\n",
    "    # Load model from disk\n",
    "    model = load(path) if os.path.exists(path) else None\n",
    "    return model[0], model[2]\n",
    "\n",
    "def make_prediction(model, input_dict):\n",
    "    with open(\"data/country_dict.json\") as f:\n",
    "        country_dict = json.load(f)\n",
    "\n",
    "    input_dict['Country'] = country_dict.get(input_dict['Country'], None)\n",
    "    pollutants = {'no2': [1, 0, 0, 0], 'ozone': [0, 1, 0, 0], 'hap': [0, 0, 1, 0], 'pm25': [0, 0, 0, 1]}\n",
    "    input_dict['Pollutant'] = pollutants.get(input_dict['Pollutant'], None)\n",
    "\n",
    "    # Concatenate 'Country', 'Exposure Mean', and 'Pollutant' into a 2D array\n",
    "    features = np.array([[input_dict['Country'], input_dict['Exposure Mean']] + input_dict['Pollutant']]).astype(float)\n",
    "\n",
    "    # Scale the features using MinMaxScaler\n",
    "    scaler = MinMaxScaler()\n",
    "    scaled_features = scaler.fit_transform(features)\n",
    "\n",
    "    # Make predictions\n",
    "    return model.predict(scaled_features)[0]\n"
   ]
  },
  {
   "cell_type": "code",
   "execution_count": 2,
   "metadata": {},
   "outputs": [
    {
     "name": "stderr",
     "output_type": "stream",
     "text": [
      "/tmp/ipykernel_311333/3237774055.py:52: SettingWithCopyWarning: \n",
      "A value is trying to be set on a copy of a slice from a DataFrame.\n",
      "Try using .loc[row_indexer,col_indexer] = value instead\n",
      "\n",
      "See the caveats in the documentation: https://pandas.pydata.org/pandas-docs/stable/user_guide/indexing.html#returning-a-view-versus-a-copy\n",
      "  data['Country'] = data['Country'].map(country_dict)\n"
     ]
    }
   ],
   "source": [
    "# Load and preprocess data\n",
    "data = load_data()\n",
    "data = clean_dataset(data)\n",
    "X, y = preprocess_data(data)\n",
    "X_train, X_test, y_train, y_test = split_data(X, y)"
   ]
  },
  {
   "cell_type": "code",
   "execution_count": 3,
   "metadata": {},
   "outputs": [],
   "source": [
    "# Train linear and polynomial models\n",
    "linear_model = ai_model_linear_train(X_train, X_test, y_train, y_test)\n",
    "poly_model = ai_model_polynomial_train(X_train, X_test, y_train, y_test)\n",
    "\n",
    "# Save models to disk\n",
    "save_model(linear_model, path='model/linear_model.pkl')\n",
    "save_model(poly_model, path='model/poly_model.pkl')"
   ]
  },
  {
   "cell_type": "code",
   "execution_count": 4,
   "metadata": {},
   "outputs": [
    {
     "name": "stdout",
     "output_type": "stream",
     "text": [
      "[-8.11212271e+10]\n"
     ]
    }
   ],
   "source": [
    "model, _ = load_model('model/poly_model.pkl')\n",
    "input_test = {'Country': 'Viet Nam', 'Pollutant': 'no2', 'Exposure Mean':10}\n",
    "result = make_prediction(model, input_test)\n",
    "print(result)"
   ]
  },
  {
   "cell_type": "code",
   "execution_count": 7,
   "metadata": {},
   "outputs": [],
   "source": [
    "def retrain(model_path='model/poly_model.pkl', data_path='data/all_countries_data_processed.csv', length_path='data/data_length.json'):\n",
    "    model_old,r2_score_old = load_model(model_path)\n",
    "\n",
    "\n",
    "    # Load the current length from the JSON file\n",
    "    with open(length_path) as f:\n",
    "        length_data = json.load(f)\n",
    "    current_length = length_data['length']\n",
    "\n",
    "    # Load the new data\n",
    "    new_data = pd.read_csv(data_path)\n",
    "    new_length = len(new_data)\n",
    "\n",
    "    # Update the length in the JSON file\n",
    "    with open(length_path, 'w') as f:\n",
    "        json.dump({\"length\": new_length}, f)\n",
    "\n",
    "    # Check if the condition is met\n",
    "    if new_length - current_length >= 100:\n",
    "        new_data = clean_dataset(new_data)\n",
    "        X, y = preprocess_data(new_data)\n",
    "        X_train, X_test, y_train, y_test = split_data(X, y)\n",
    "        model = ai_model_polynomial_train(X_train, X_test, y_train, y_test)\n",
    "\n",
    "        r2_score_new = model[2]\n",
    "\n",
    "        if r2_score_new > r2_score_old:\n",
    "            save_model(model, path=model_path)  # Save the updated model\n",
    "            print(\"Model updated with new data.\")\n",
    "        else:\n",
    "            print(\"Model not updated; score did not improve.\")\n",
    "    else:\n",
    "        print(\"Not enough new data to retrain the model.\")\n"
   ]
  },
  {
   "cell_type": "code",
   "execution_count": 8,
   "metadata": {},
   "outputs": [
    {
     "name": "stderr",
     "output_type": "stream",
     "text": [
      "/tmp/ipykernel_311333/3237774055.py:52: SettingWithCopyWarning: \n",
      "A value is trying to be set on a copy of a slice from a DataFrame.\n",
      "Try using .loc[row_indexer,col_indexer] = value instead\n",
      "\n",
      "See the caveats in the documentation: https://pandas.pydata.org/pandas-docs/stable/user_guide/indexing.html#returning-a-view-versus-a-copy\n",
      "  data['Country'] = data['Country'].map(country_dict)\n"
     ]
    },
    {
     "name": "stdout",
     "output_type": "stream",
     "text": [
      "Model not updated; score did not improve.\n"
     ]
    }
   ],
   "source": [
    "retrain()"
   ]
  }
 ],
 "metadata": {
  "kernelspec": {
   "display_name": "test",
   "language": "python",
   "name": "python3"
  },
  "language_info": {
   "codemirror_mode": {
    "name": "ipython",
    "version": 3
   },
   "file_extension": ".py",
   "mimetype": "text/x-python",
   "name": "python",
   "nbconvert_exporter": "python",
   "pygments_lexer": "ipython3",
   "version": "3.8.20"
  }
 },
 "nbformat": 4,
 "nbformat_minor": 2
}
